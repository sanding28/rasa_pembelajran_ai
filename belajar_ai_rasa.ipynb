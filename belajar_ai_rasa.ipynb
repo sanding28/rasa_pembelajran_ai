{
  "nbformat": 4,
  "nbformat_minor": 0,
  "metadata": {
    "colab": {
      "name": "belajar_ai_rasa.ipynb",
      "provenance": []
    },
    "kernelspec": {
      "name": "python3",
      "display_name": "Python 3"
    },
    "language_info": {
      "name": "python"
    }
  },
  "cells": [
    {
      "cell_type": "code",
      "source": [
        "!pip install -U tables \n",
        "#==3.6.1\n",
        "!pip install -U ipython"
      ],
      "metadata": {
        "colab": {
          "base_uri": "https://localhost:8080/",
          "height": 908
        },
        "id": "cihFzCsoOEOU",
        "outputId": "75bd2f80-1513-4b2b-cdc7-f29234a35397"
      },
      "execution_count": null,
      "outputs": [
        {
          "output_type": "stream",
          "name": "stdout",
          "text": [
            "Looking in indexes: https://pypi.org/simple, https://us-python.pkg.dev/colab-wheels/public/simple/\n",
            "Requirement already satisfied: tables in /usr/local/lib/python3.7/dist-packages (3.7.0)\n",
            "Requirement already satisfied: numpy>=1.19.0 in /usr/local/lib/python3.7/dist-packages (from tables) (1.21.6)\n",
            "Requirement already satisfied: numexpr>=2.6.2 in /usr/local/lib/python3.7/dist-packages (from tables) (2.8.1)\n",
            "Requirement already satisfied: packaging in /usr/local/lib/python3.7/dist-packages (from tables) (21.3)\n",
            "Requirement already satisfied: pyparsing!=3.0.5,>=2.0.2 in /usr/local/lib/python3.7/dist-packages (from packaging->tables) (3.0.9)\n",
            "Looking in indexes: https://pypi.org/simple, https://us-python.pkg.dev/colab-wheels/public/simple/\n",
            "Requirement already satisfied: ipython in /usr/local/lib/python3.7/dist-packages (5.5.0)\n",
            "Collecting ipython\n",
            "  Downloading ipython-7.34.0-py3-none-any.whl (793 kB)\n",
            "\u001b[K     |████████████████████████████████| 793 kB 14.3 MB/s \n",
            "\u001b[?25hRequirement already satisfied: setuptools>=18.5 in /usr/local/lib/python3.7/dist-packages (from ipython) (57.4.0)\n",
            "Requirement already satisfied: pygments in /usr/local/lib/python3.7/dist-packages (from ipython) (2.6.1)\n",
            "Requirement already satisfied: pexpect>4.3 in /usr/local/lib/python3.7/dist-packages (from ipython) (4.8.0)\n",
            "Collecting prompt-toolkit!=3.0.0,!=3.0.1,<3.1.0,>=2.0.0\n",
            "  Downloading prompt_toolkit-3.0.30-py3-none-any.whl (381 kB)\n",
            "\u001b[K     |████████████████████████████████| 381 kB 64.1 MB/s \n",
            "\u001b[?25hRequirement already satisfied: traitlets>=4.2 in /usr/local/lib/python3.7/dist-packages (from ipython) (5.1.1)\n",
            "Requirement already satisfied: jedi>=0.16 in /usr/local/lib/python3.7/dist-packages (from ipython) (0.18.1)\n",
            "Requirement already satisfied: backcall in /usr/local/lib/python3.7/dist-packages (from ipython) (0.2.0)\n",
            "Requirement already satisfied: decorator in /usr/local/lib/python3.7/dist-packages (from ipython) (4.4.2)\n",
            "Requirement already satisfied: pickleshare in /usr/local/lib/python3.7/dist-packages (from ipython) (0.7.5)\n",
            "Requirement already satisfied: matplotlib-inline in /usr/local/lib/python3.7/dist-packages (from ipython) (0.1.3)\n",
            "Requirement already satisfied: parso<0.9.0,>=0.8.0 in /usr/local/lib/python3.7/dist-packages (from jedi>=0.16->ipython) (0.8.3)\n",
            "Requirement already satisfied: ptyprocess>=0.5 in /usr/local/lib/python3.7/dist-packages (from pexpect>4.3->ipython) (0.7.0)\n",
            "Requirement already satisfied: wcwidth in /usr/local/lib/python3.7/dist-packages (from prompt-toolkit!=3.0.0,!=3.0.1,<3.1.0,>=2.0.0->ipython) (0.2.5)\n",
            "Installing collected packages: prompt-toolkit, ipython\n",
            "  Attempting uninstall: prompt-toolkit\n",
            "    Found existing installation: prompt-toolkit 1.0.18\n",
            "    Uninstalling prompt-toolkit-1.0.18:\n",
            "      Successfully uninstalled prompt-toolkit-1.0.18\n",
            "  Attempting uninstall: ipython\n",
            "    Found existing installation: ipython 5.5.0\n",
            "    Uninstalling ipython-5.5.0:\n",
            "      Successfully uninstalled ipython-5.5.0\n",
            "\u001b[31mERROR: pip's dependency resolver does not currently take into account all the packages that are installed. This behaviour is the source of the following dependency conflicts.\n",
            "jupyter-console 5.2.0 requires prompt-toolkit<2.0.0,>=1.0.0, but you have prompt-toolkit 3.0.30 which is incompatible.\n",
            "google-colab 1.0.0 requires ipython~=5.5.0, but you have ipython 7.34.0 which is incompatible.\u001b[0m\n",
            "Successfully installed ipython-7.34.0 prompt-toolkit-3.0.30\n"
          ]
        },
        {
          "output_type": "display_data",
          "data": {
            "application/vnd.colab-display-data+json": {
              "pip_warning": {
                "packages": [
                  "IPython",
                  "prompt_toolkit"
                ]
              }
            }
          },
          "metadata": {}
        }
      ]
    },
    {
      "cell_type": "code",
      "execution_count": null,
      "metadata": {
        "id": "QrNBBh6tESi-",
        "colab": {
          "base_uri": "https://localhost:8080/"
        },
        "outputId": "fe62f81f-83e9-4dff-b8e2-6eacfa6d1f69"
      },
      "outputs": [
        {
          "output_type": "stream",
          "name": "stdout",
          "text": [
            "Looking in indexes: https://pypi.org/simple, https://us-python.pkg.dev/colab-wheels/public/simple/\n",
            "Requirement already satisfied: rasa==2.6.3 in /usr/local/lib/python3.7/dist-packages (2.6.3)\n",
            "Requirement already satisfied: kafka-python<3.0,>=1.4 in /usr/local/lib/python3.7/dist-packages (from rasa==2.6.3) (2.0.2)\n",
            "Requirement already satisfied: tensorflow<2.4,>=2.3 in /usr/local/lib/python3.7/dist-packages (from rasa==2.6.3) (2.3.4)\n",
            "Requirement already satisfied: sanic-cors<0.11.0,>=0.10.0b1 in /usr/local/lib/python3.7/dist-packages (from rasa==2.6.3) (0.10.0.post3)\n",
            "Requirement already satisfied: pykwalify<1.9,>=1.7 in /usr/local/lib/python3.7/dist-packages (from rasa==2.6.3) (1.8.0)\n",
            "Requirement already satisfied: mattermostwrapper<2.3,>=2.2 in /usr/local/lib/python3.7/dist-packages (from rasa==2.6.3) (2.2)\n",
            "Requirement already satisfied: networkx<2.6,>=2.4 in /usr/local/lib/python3.7/dist-packages (from rasa==2.6.3) (2.5.1)\n",
            "Requirement already satisfied: psycopg2-binary<2.9.0,>=2.8.2 in /usr/local/lib/python3.7/dist-packages (from rasa==2.6.3) (2.8.6)\n",
            "Requirement already satisfied: sanic-jwt<2.0,>=1.3.2 in /usr/local/lib/python3.7/dist-packages (from rasa==2.6.3) (1.8.0)\n",
            "Requirement already satisfied: rocketchat_API<1.16.0,>=0.6.31 in /usr/local/lib/python3.7/dist-packages (from rasa==2.6.3) (1.15.0)\n",
            "Requirement already satisfied: rasa-sdk<3.0.0,>=2.6.0 in /usr/local/lib/python3.7/dist-packages (from rasa==2.6.3) (2.8.6)\n",
            "Requirement already satisfied: redis<4.0,>=3.4 in /usr/local/lib/python3.7/dist-packages (from rasa==2.6.3) (3.5.3)\n",
            "Requirement already satisfied: apscheduler<3.8,>=3.6 in /usr/local/lib/python3.7/dist-packages (from rasa==2.6.3) (3.7.0)\n",
            "Requirement already satisfied: prompt-toolkit<3.0,>=2.0 in /usr/local/lib/python3.7/dist-packages (from rasa==2.6.3) (2.0.10)\n",
            "Requirement already satisfied: python-dateutil<2.9,>=2.8 in /usr/local/lib/python3.7/dist-packages (from rasa==2.6.3) (2.8.2)\n",
            "Requirement already satisfied: twilio<6.51,>=6.26 in /usr/local/lib/python3.7/dist-packages (from rasa==2.6.3) (6.50.1)\n",
            "Requirement already satisfied: setuptools>=41.0.0 in /usr/local/lib/python3.7/dist-packages (from rasa==2.6.3) (57.4.0)\n",
            "Requirement already satisfied: webexteamssdk<1.7.0,>=1.1.1 in /usr/local/lib/python3.7/dist-packages (from rasa==2.6.3) (1.6.1)\n",
            "Requirement already satisfied: ruamel.yaml<0.17.0,>=0.16.5 in /usr/local/lib/python3.7/dist-packages (from rasa==2.6.3) (0.16.13)\n",
            "Requirement already satisfied: PyJWT[crypto]<3.0.0,>=2.0.0 in /usr/local/lib/python3.7/dist-packages (from rasa==2.6.3) (2.4.0)\n",
            "Requirement already satisfied: pyTelegramBotAPI<4.0.0,>=3.7.3 in /usr/local/lib/python3.7/dist-packages (from rasa==2.6.3) (3.8.3)\n",
            "Requirement already satisfied: packaging<21.0,>=20.0 in /usr/local/lib/python3.7/dist-packages (from rasa==2.6.3) (20.9)\n",
            "Requirement already satisfied: tensorflow-estimator<2.4,>=2.3 in /usr/local/lib/python3.7/dist-packages (from rasa==2.6.3) (2.3.0)\n",
            "Requirement already satisfied: tensorflow-probability<0.12,>=0.11 in /usr/local/lib/python3.7/dist-packages (from rasa==2.6.3) (0.11.1)\n",
            "Requirement already satisfied: tensorflow_hub<0.11,>=0.10 in /usr/local/lib/python3.7/dist-packages (from rasa==2.6.3) (0.10.0)\n",
            "Requirement already satisfied: ujson<5.0,>=1.35 in /usr/local/lib/python3.7/dist-packages (from rasa==2.6.3) (4.3.0)\n",
            "Requirement already satisfied: pymongo[srv,tls]<3.11,>=3.8 in /usr/local/lib/python3.7/dist-packages (from rasa==2.6.3) (3.10.1)\n",
            "Requirement already satisfied: absl-py<0.13,>=0.9 in /usr/local/lib/python3.7/dist-packages (from rasa==2.6.3) (0.12.0)\n",
            "Requirement already satisfied: SQLAlchemy<1.4.0,>=1.3.3 in /usr/local/lib/python3.7/dist-packages (from rasa==2.6.3) (1.3.24)\n",
            "Requirement already satisfied: pydot<1.5,>=1.4 in /usr/local/lib/python3.7/dist-packages (from rasa==2.6.3) (1.4.2)\n",
            "Requirement already satisfied: tensorflow-text<2.4,>=2.3 in /usr/local/lib/python3.7/dist-packages (from rasa==2.6.3) (2.3.0)\n",
            "Requirement already satisfied: aio-pika<7.0.0,>=6.7.1 in /usr/local/lib/python3.7/dist-packages (from rasa==2.6.3) (6.8.2)\n",
            "Requirement already satisfied: oauth2client==4.1.3 in /usr/local/lib/python3.7/dist-packages (from rasa==2.6.3) (4.1.3)\n",
            "Requirement already satisfied: regex<2020.10,>=2020.6 in /usr/local/lib/python3.7/dist-packages (from rasa==2.6.3) (2020.9.27)\n",
            "Requirement already satisfied: python-socketio<6,>=4.4 in /usr/local/lib/python3.7/dist-packages (from rasa==2.6.3) (5.7.0)\n",
            "Requirement already satisfied: attrs<20.4,>=19.3 in /usr/local/lib/python3.7/dist-packages (from rasa==2.6.3) (20.3.0)\n",
            "Requirement already satisfied: slackclient<3.0.0,>=2.0.0 in /usr/local/lib/python3.7/dist-packages (from rasa==2.6.3) (2.9.4)\n",
            "Requirement already satisfied: scikit-learn<0.25,>=0.22 in /usr/local/lib/python3.7/dist-packages (from rasa==2.6.3) (0.24.2)\n",
            "Requirement already satisfied: numpy<1.19,>=1.16 in /usr/local/lib/python3.7/dist-packages (from rasa==2.6.3) (1.18.5)\n",
            "Requirement already satisfied: fbmessenger<6.1.0,>=6.0.0 in /usr/local/lib/python3.7/dist-packages (from rasa==2.6.3) (6.0.0)\n",
            "Requirement already satisfied: joblib<0.16.0,>=0.15.1 in /usr/local/lib/python3.7/dist-packages (from rasa==2.6.3) (0.15.1)\n",
            "Requirement already satisfied: boto3<2.0,>=1.12 in /usr/local/lib/python3.7/dist-packages (from rasa==2.6.3) (1.24.25)\n",
            "Requirement already satisfied: aiohttp!=3.7.4.post0,<3.8,>=3.6 in /usr/local/lib/python3.7/dist-packages (from rasa==2.6.3) (3.7.4)\n",
            "Requirement already satisfied: python-engineio!=5.0.0,<6,>=4 in /usr/local/lib/python3.7/dist-packages (from rasa==2.6.3) (4.3.3)\n",
            "Requirement already satisfied: questionary<1.10.0,>=1.5.1 in /usr/local/lib/python3.7/dist-packages (from rasa==2.6.3) (1.9.0)\n",
            "Requirement already satisfied: sentry-sdk<0.20.0,>=0.17.0 in /usr/local/lib/python3.7/dist-packages (from rasa==2.6.3) (0.19.5)\n",
            "Requirement already satisfied: sklearn-crfsuite<0.4,>=0.3 in /usr/local/lib/python3.7/dist-packages (from rasa==2.6.3) (0.3.6)\n",
            "Requirement already satisfied: tensorflow-addons<=0.12,>=0.10 in /usr/local/lib/python3.7/dist-packages (from rasa==2.6.3) (0.12.0)\n",
            "Requirement already satisfied: terminaltables<3.2.0,>=3.1.0 in /usr/local/lib/python3.7/dist-packages (from rasa==2.6.3) (3.1.10)\n",
            "Requirement already satisfied: pytz<2022.0,>=2019.1 in /usr/local/lib/python3.7/dist-packages (from rasa==2.6.3) (2021.3)\n",
            "Requirement already satisfied: sanic<21.0.0,>=19.12.2 in /usr/local/lib/python3.7/dist-packages (from rasa==2.6.3) (20.12.6)\n",
            "Requirement already satisfied: scipy<2.0.0,>=1.4.1 in /usr/local/lib/python3.7/dist-packages (from rasa==2.6.3) (1.4.1)\n",
            "Requirement already satisfied: jsonpickle<2.1,>=1.3 in /usr/local/lib/python3.7/dist-packages (from rasa==2.6.3) (2.0.0)\n",
            "Requirement already satisfied: requests<3.0,>=2.23 in /usr/local/lib/python3.7/dist-packages (from rasa==2.6.3) (2.28.1)\n",
            "Requirement already satisfied: coloredlogs<16,>=10 in /usr/local/lib/python3.7/dist-packages (from rasa==2.6.3) (15.0.1)\n",
            "Requirement already satisfied: cloudpickle<1.7,>=1.2 in /usr/local/lib/python3.7/dist-packages (from rasa==2.6.3) (1.3.0)\n",
            "Requirement already satisfied: jsonschema<3.3,>=3.2 in /usr/local/lib/python3.7/dist-packages (from rasa==2.6.3) (3.2.0)\n",
            "Requirement already satisfied: matplotlib<3.4,>=3.1 in /usr/local/lib/python3.7/dist-packages (from rasa==2.6.3) (3.2.2)\n",
            "Requirement already satisfied: tqdm<4.60,>=4.31 in /usr/local/lib/python3.7/dist-packages (from rasa==2.6.3) (4.59.0)\n",
            "Requirement already satisfied: async_generator<1.11,>=1.10 in /usr/local/lib/python3.7/dist-packages (from rasa==2.6.3) (1.10)\n",
            "Requirement already satisfied: colorhash<1.1.0,>=1.0.2 in /usr/local/lib/python3.7/dist-packages (from rasa==2.6.3) (1.0.4)\n",
            "Requirement already satisfied: colorclass<2.3,>=2.2 in /usr/local/lib/python3.7/dist-packages (from rasa==2.6.3) (2.2.2)\n",
            "Requirement already satisfied: httplib2>=0.9.1 in /usr/local/lib/python3.7/dist-packages (from oauth2client==4.1.3->rasa==2.6.3) (0.17.4)\n",
            "Requirement already satisfied: six>=1.6.1 in /usr/local/lib/python3.7/dist-packages (from oauth2client==4.1.3->rasa==2.6.3) (1.15.0)\n",
            "Requirement already satisfied: pyasn1-modules>=0.0.5 in /usr/local/lib/python3.7/dist-packages (from oauth2client==4.1.3->rasa==2.6.3) (0.2.8)\n",
            "Requirement already satisfied: rsa>=3.1.4 in /usr/local/lib/python3.7/dist-packages (from oauth2client==4.1.3->rasa==2.6.3) (4.8)\n",
            "Requirement already satisfied: pyasn1>=0.1.7 in /usr/local/lib/python3.7/dist-packages (from oauth2client==4.1.3->rasa==2.6.3) (0.4.8)\n",
            "Requirement already satisfied: yarl in /usr/local/lib/python3.7/dist-packages (from aio-pika<7.0.0,>=6.7.1->rasa==2.6.3) (1.7.2)\n",
            "Requirement already satisfied: aiormq<4,>=3.2.3 in /usr/local/lib/python3.7/dist-packages (from aio-pika<7.0.0,>=6.7.1->rasa==2.6.3) (3.3.1)\n",
            "Requirement already satisfied: multidict<7.0,>=4.5 in /usr/local/lib/python3.7/dist-packages (from aiohttp!=3.7.4.post0,<3.8,>=3.6->rasa==2.6.3) (5.2.0)\n",
            "Requirement already satisfied: chardet<4.0,>=2.0 in /usr/local/lib/python3.7/dist-packages (from aiohttp!=3.7.4.post0,<3.8,>=3.6->rasa==2.6.3) (3.0.4)\n",
            "Requirement already satisfied: typing-extensions>=3.6.5 in /usr/local/lib/python3.7/dist-packages (from aiohttp!=3.7.4.post0,<3.8,>=3.6->rasa==2.6.3) (3.10.0.2)\n",
            "Requirement already satisfied: async-timeout<4.0,>=3.0 in /usr/local/lib/python3.7/dist-packages (from aiohttp!=3.7.4.post0,<3.8,>=3.6->rasa==2.6.3) (3.0.1)\n",
            "Requirement already satisfied: pamqp==2.3.0 in /usr/local/lib/python3.7/dist-packages (from aiormq<4,>=3.2.3->aio-pika<7.0.0,>=6.7.1->rasa==2.6.3) (2.3.0)\n",
            "Requirement already satisfied: tzlocal~=2.0 in /usr/local/lib/python3.7/dist-packages (from apscheduler<3.8,>=3.6->rasa==2.6.3) (2.1)\n",
            "Requirement already satisfied: jmespath<2.0.0,>=0.7.1 in /usr/local/lib/python3.7/dist-packages (from boto3<2.0,>=1.12->rasa==2.6.3) (1.0.1)\n",
            "Requirement already satisfied: botocore<1.28.0,>=1.27.25 in /usr/local/lib/python3.7/dist-packages (from boto3<2.0,>=1.12->rasa==2.6.3) (1.27.25)\n",
            "Requirement already satisfied: s3transfer<0.7.0,>=0.6.0 in /usr/local/lib/python3.7/dist-packages (from boto3<2.0,>=1.12->rasa==2.6.3) (0.6.0)\n",
            "Requirement already satisfied: urllib3<1.27,>=1.25.4 in /usr/local/lib/python3.7/dist-packages (from botocore<1.28.0,>=1.27.25->boto3<2.0,>=1.12->rasa==2.6.3) (1.26.10)\n",
            "Requirement already satisfied: humanfriendly>=9.1 in /usr/local/lib/python3.7/dist-packages (from coloredlogs<16,>=10->rasa==2.6.3) (10.0)\n",
            "Requirement already satisfied: importlib-metadata in /usr/local/lib/python3.7/dist-packages (from jsonpickle<2.1,>=1.3->rasa==2.6.3) (4.11.4)\n",
            "Requirement already satisfied: pyrsistent>=0.14.0 in /usr/local/lib/python3.7/dist-packages (from jsonschema<3.3,>=3.2->rasa==2.6.3) (0.18.1)\n",
            "Requirement already satisfied: pyparsing!=2.0.4,!=2.1.2,!=2.1.6,>=2.0.1 in /usr/local/lib/python3.7/dist-packages (from matplotlib<3.4,>=3.1->rasa==2.6.3) (3.0.9)\n",
            "Requirement already satisfied: kiwisolver>=1.0.1 in /usr/local/lib/python3.7/dist-packages (from matplotlib<3.4,>=3.1->rasa==2.6.3) (1.4.3)\n",
            "Requirement already satisfied: cycler>=0.10 in /usr/local/lib/python3.7/dist-packages (from matplotlib<3.4,>=3.1->rasa==2.6.3) (0.11.0)\n",
            "Requirement already satisfied: decorator<5,>=4.3 in /usr/local/lib/python3.7/dist-packages (from networkx<2.6,>=2.4->rasa==2.6.3) (4.4.2)\n",
            "Requirement already satisfied: wcwidth in /usr/local/lib/python3.7/dist-packages (from prompt-toolkit<3.0,>=2.0->rasa==2.6.3) (0.2.5)\n",
            "Requirement already satisfied: cryptography>=3.3.1 in /usr/local/lib/python3.7/dist-packages (from PyJWT[crypto]<3.0.0,>=2.0.0->rasa==2.6.3) (37.0.4)\n",
            "Requirement already satisfied: cffi>=1.12 in /usr/local/lib/python3.7/dist-packages (from cryptography>=3.3.1->PyJWT[crypto]<3.0.0,>=2.0.0->rasa==2.6.3) (1.15.0)\n",
            "Requirement already satisfied: pycparser in /usr/local/lib/python3.7/dist-packages (from cffi>=1.12->cryptography>=3.3.1->PyJWT[crypto]<3.0.0,>=2.0.0->rasa==2.6.3) (2.21)\n",
            "Requirement already satisfied: docopt>=0.6.2 in /usr/local/lib/python3.7/dist-packages (from pykwalify<1.9,>=1.7->rasa==2.6.3) (0.6.2)\n",
            "Requirement already satisfied: dnspython<2.0.0,>=1.16.0 in /usr/local/lib/python3.7/dist-packages (from pymongo[srv,tls]<3.11,>=3.8->rasa==2.6.3) (1.16.0)\n",
            "Requirement already satisfied: bidict>=0.21.0 in /usr/local/lib/python3.7/dist-packages (from python-socketio<6,>=4.4->rasa==2.6.3) (0.22.0)\n",
            "Requirement already satisfied: uvloop<0.15.0 in /usr/local/lib/python3.7/dist-packages (from rasa-sdk<3.0.0,>=2.6.0->rasa==2.6.3) (0.14.0)\n",
            "Requirement already satisfied: charset-normalizer<3,>=2 in /usr/local/lib/python3.7/dist-packages (from requests<3.0,>=2.23->rasa==2.6.3) (2.1.0)\n",
            "Requirement already satisfied: idna<4,>=2.5 in /usr/local/lib/python3.7/dist-packages (from requests<3.0,>=2.23->rasa==2.6.3) (2.10)\n",
            "Requirement already satisfied: certifi>=2017.4.17 in /usr/local/lib/python3.7/dist-packages (from requests<3.0,>=2.23->rasa==2.6.3) (2022.6.15)\n",
            "Requirement already satisfied: ruamel.yaml.clib>=0.1.2 in /usr/local/lib/python3.7/dist-packages (from ruamel.yaml<0.17.0,>=0.16.5->rasa==2.6.3) (0.2.6)\n",
            "Requirement already satisfied: httpx==0.15.4 in /usr/local/lib/python3.7/dist-packages (from sanic<21.0.0,>=19.12.2->rasa==2.6.3) (0.15.4)\n",
            "Requirement already satisfied: httptools>=0.0.10 in /usr/local/lib/python3.7/dist-packages (from sanic<21.0.0,>=19.12.2->rasa==2.6.3) (0.4.0)\n",
            "Requirement already satisfied: aiofiles>=0.6.0 in /usr/local/lib/python3.7/dist-packages (from sanic<21.0.0,>=19.12.2->rasa==2.6.3) (0.8.0)\n",
            "Requirement already satisfied: websockets<=9.1,>=8.1 in /usr/local/lib/python3.7/dist-packages (from sanic<21.0.0,>=19.12.2->rasa==2.6.3) (9.1)\n",
            "Requirement already satisfied: httpcore==0.11.* in /usr/local/lib/python3.7/dist-packages (from httpx==0.15.4->sanic<21.0.0,>=19.12.2->rasa==2.6.3) (0.11.1)\n",
            "Requirement already satisfied: rfc3986[idna2008]<2,>=1.3 in /usr/local/lib/python3.7/dist-packages (from httpx==0.15.4->sanic<21.0.0,>=19.12.2->rasa==2.6.3) (1.5.0)\n",
            "Requirement already satisfied: sniffio in /usr/local/lib/python3.7/dist-packages (from httpx==0.15.4->sanic<21.0.0,>=19.12.2->rasa==2.6.3) (1.2.0)\n",
            "Requirement already satisfied: h11<0.10,>=0.8 in /usr/local/lib/python3.7/dist-packages (from httpcore==0.11.*->httpx==0.15.4->sanic<21.0.0,>=19.12.2->rasa==2.6.3) (0.9.0)\n",
            "Requirement already satisfied: sanic-plugins-framework>=0.9.0 in /usr/local/lib/python3.7/dist-packages (from sanic-cors<0.11.0,>=0.10.0b1->rasa==2.6.3) (0.9.5)\n",
            "Requirement already satisfied: threadpoolctl>=2.0.0 in /usr/local/lib/python3.7/dist-packages (from scikit-learn<0.25,>=0.22->rasa==2.6.3) (3.1.0)\n",
            "Requirement already satisfied: tabulate in /usr/local/lib/python3.7/dist-packages (from sklearn-crfsuite<0.4,>=0.3->rasa==2.6.3) (0.8.9)\n",
            "Requirement already satisfied: python-crfsuite>=0.8.3 in /usr/local/lib/python3.7/dist-packages (from sklearn-crfsuite<0.4,>=0.3->rasa==2.6.3) (0.9.8)\n",
            "Requirement already satisfied: keras-preprocessing<1.2,>=1.1.1 in /usr/local/lib/python3.7/dist-packages (from tensorflow<2.4,>=2.3->rasa==2.6.3) (1.1.2)\n",
            "Requirement already satisfied: termcolor>=1.1.0 in /usr/local/lib/python3.7/dist-packages (from tensorflow<2.4,>=2.3->rasa==2.6.3) (1.1.0)\n",
            "Requirement already satisfied: google-pasta>=0.1.8 in /usr/local/lib/python3.7/dist-packages (from tensorflow<2.4,>=2.3->rasa==2.6.3) (0.2.0)\n",
            "Requirement already satisfied: opt-einsum>=2.3.2 in /usr/local/lib/python3.7/dist-packages (from tensorflow<2.4,>=2.3->rasa==2.6.3) (3.3.0)\n",
            "Requirement already satisfied: wrapt>=1.11.1 in /usr/local/lib/python3.7/dist-packages (from tensorflow<2.4,>=2.3->rasa==2.6.3) (1.14.1)\n",
            "Requirement already satisfied: astunparse==1.6.3 in /usr/local/lib/python3.7/dist-packages (from tensorflow<2.4,>=2.3->rasa==2.6.3) (1.6.3)\n",
            "Requirement already satisfied: grpcio>=1.8.6 in /usr/local/lib/python3.7/dist-packages (from tensorflow<2.4,>=2.3->rasa==2.6.3) (1.46.3)\n",
            "Requirement already satisfied: wheel>=0.26 in /usr/local/lib/python3.7/dist-packages (from tensorflow<2.4,>=2.3->rasa==2.6.3) (0.37.1)\n",
            "Requirement already satisfied: gast==0.3.3 in /usr/local/lib/python3.7/dist-packages (from tensorflow<2.4,>=2.3->rasa==2.6.3) (0.3.3)\n",
            "Requirement already satisfied: h5py<2.11.0,>=2.10.0 in /usr/local/lib/python3.7/dist-packages (from tensorflow<2.4,>=2.3->rasa==2.6.3) (2.10.0)\n",
            "Requirement already satisfied: tensorboard<3,>=2.3.0 in /usr/local/lib/python3.7/dist-packages (from tensorflow<2.4,>=2.3->rasa==2.6.3) (2.8.0)\n",
            "Requirement already satisfied: protobuf>=3.9.2 in /usr/local/lib/python3.7/dist-packages (from tensorflow<2.4,>=2.3->rasa==2.6.3) (3.17.3)\n",
            "Requirement already satisfied: tensorboard-plugin-wit>=1.6.0 in /usr/local/lib/python3.7/dist-packages (from tensorboard<3,>=2.3.0->tensorflow<2.4,>=2.3->rasa==2.6.3) (1.8.1)\n",
            "Requirement already satisfied: tensorboard-data-server<0.7.0,>=0.6.0 in /usr/local/lib/python3.7/dist-packages (from tensorboard<3,>=2.3.0->tensorflow<2.4,>=2.3->rasa==2.6.3) (0.6.1)\n",
            "Requirement already satisfied: google-auth-oauthlib<0.5,>=0.4.1 in /usr/local/lib/python3.7/dist-packages (from tensorboard<3,>=2.3.0->tensorflow<2.4,>=2.3->rasa==2.6.3) (0.4.6)\n",
            "Requirement already satisfied: google-auth<3,>=1.6.3 in /usr/local/lib/python3.7/dist-packages (from tensorboard<3,>=2.3.0->tensorflow<2.4,>=2.3->rasa==2.6.3) (1.35.0)\n",
            "Requirement already satisfied: werkzeug>=0.11.15 in /usr/local/lib/python3.7/dist-packages (from tensorboard<3,>=2.3.0->tensorflow<2.4,>=2.3->rasa==2.6.3) (1.0.1)\n",
            "Requirement already satisfied: markdown>=2.6.8 in /usr/local/lib/python3.7/dist-packages (from tensorboard<3,>=2.3.0->tensorflow<2.4,>=2.3->rasa==2.6.3) (3.3.7)\n",
            "Requirement already satisfied: cachetools<5.0,>=2.0.0 in /usr/local/lib/python3.7/dist-packages (from google-auth<3,>=1.6.3->tensorboard<3,>=2.3.0->tensorflow<2.4,>=2.3->rasa==2.6.3) (4.2.4)\n",
            "Requirement already satisfied: requests-oauthlib>=0.7.0 in /usr/local/lib/python3.7/dist-packages (from google-auth-oauthlib<0.5,>=0.4.1->tensorboard<3,>=2.3.0->tensorflow<2.4,>=2.3->rasa==2.6.3) (1.3.1)\n",
            "Requirement already satisfied: zipp>=0.5 in /usr/local/lib/python3.7/dist-packages (from importlib-metadata->jsonpickle<2.1,>=1.3->rasa==2.6.3) (3.8.0)\n",
            "Requirement already satisfied: oauthlib>=3.0.0 in /usr/local/lib/python3.7/dist-packages (from requests-oauthlib>=0.7.0->google-auth-oauthlib<0.5,>=0.4.1->tensorboard<3,>=2.3.0->tensorflow<2.4,>=2.3->rasa==2.6.3) (3.2.0)\n",
            "Requirement already satisfied: typeguard>=2.7 in /usr/local/lib/python3.7/dist-packages (from tensorflow-addons<=0.12,>=0.10->rasa==2.6.3) (2.7.1)\n",
            "Requirement already satisfied: dm-tree in /usr/local/lib/python3.7/dist-packages (from tensorflow-probability<0.12,>=0.11->rasa==2.6.3) (0.1.7)\n",
            "Requirement already satisfied: requests-toolbelt in /usr/local/lib/python3.7/dist-packages (from webexteamssdk<1.7.0,>=1.1.1->rasa==2.6.3) (0.9.1)\n",
            "Requirement already satisfied: future in /usr/local/lib/python3.7/dist-packages (from webexteamssdk<1.7.0,>=1.1.1->rasa==2.6.3) (0.16.0)\n"
          ]
        }
      ],
      "source": [
        "!pip install rasa==2.6.3"
      ]
    },
    {
      "cell_type": "code",
      "source": [
        "!python -m spacy download en_core_web_sm"
      ],
      "metadata": {
        "colab": {
          "base_uri": "https://localhost:8080/"
        },
        "id": "kJDr6qWmF8h2",
        "outputId": "a49ecadf-b4b9-4597-89ad-eb08177bbfd4"
      },
      "execution_count": null,
      "outputs": [
        {
          "output_type": "stream",
          "name": "stdout",
          "text": [
            "2022-07-08 15:54:54.787370: I tensorflow/stream_executor/platform/default/dso_loader.cc:48] Successfully opened dynamic library libcudart.so.10.1\n",
            "Looking in indexes: https://pypi.org/simple, https://us-python.pkg.dev/colab-wheels/public/simple/\n",
            "Collecting en-core-web-sm==3.3.0\n",
            "  Downloading https://github.com/explosion/spacy-models/releases/download/en_core_web_sm-3.3.0/en_core_web_sm-3.3.0-py3-none-any.whl (12.8 MB)\n",
            "\u001b[K     |████████████████████████████████| 12.8 MB 5.3 MB/s \n",
            "\u001b[?25hRequirement already satisfied: spacy<3.4.0,>=3.3.0.dev0 in /usr/local/lib/python3.7/dist-packages (from en-core-web-sm==3.3.0) (3.3.1)\n",
            "Requirement already satisfied: blis<0.8.0,>=0.4.0 in /usr/local/lib/python3.7/dist-packages (from spacy<3.4.0,>=3.3.0.dev0->en-core-web-sm==3.3.0) (0.7.7)\n",
            "Requirement already satisfied: tqdm<5.0.0,>=4.38.0 in /usr/local/lib/python3.7/dist-packages (from spacy<3.4.0,>=3.3.0.dev0->en-core-web-sm==3.3.0) (4.59.0)\n",
            "Requirement already satisfied: pathy>=0.3.5 in /usr/local/lib/python3.7/dist-packages (from spacy<3.4.0,>=3.3.0.dev0->en-core-web-sm==3.3.0) (0.6.1)\n",
            "Requirement already satisfied: packaging>=20.0 in /usr/local/lib/python3.7/dist-packages (from spacy<3.4.0,>=3.3.0.dev0->en-core-web-sm==3.3.0) (20.9)\n",
            "Requirement already satisfied: numpy>=1.15.0 in /usr/local/lib/python3.7/dist-packages (from spacy<3.4.0,>=3.3.0.dev0->en-core-web-sm==3.3.0) (1.18.5)\n",
            "Requirement already satisfied: cymem<2.1.0,>=2.0.2 in /usr/local/lib/python3.7/dist-packages (from spacy<3.4.0,>=3.3.0.dev0->en-core-web-sm==3.3.0) (2.0.6)\n",
            "Requirement already satisfied: murmurhash<1.1.0,>=0.28.0 in /usr/local/lib/python3.7/dist-packages (from spacy<3.4.0,>=3.3.0.dev0->en-core-web-sm==3.3.0) (1.0.7)\n",
            "Requirement already satisfied: srsly<3.0.0,>=2.4.3 in /usr/local/lib/python3.7/dist-packages (from spacy<3.4.0,>=3.3.0.dev0->en-core-web-sm==3.3.0) (2.4.3)\n",
            "Requirement already satisfied: requests<3.0.0,>=2.13.0 in /usr/local/lib/python3.7/dist-packages (from spacy<3.4.0,>=3.3.0.dev0->en-core-web-sm==3.3.0) (2.28.1)\n",
            "Requirement already satisfied: preshed<3.1.0,>=3.0.2 in /usr/local/lib/python3.7/dist-packages (from spacy<3.4.0,>=3.3.0.dev0->en-core-web-sm==3.3.0) (3.0.6)\n",
            "Requirement already satisfied: wasabi<1.1.0,>=0.9.1 in /usr/local/lib/python3.7/dist-packages (from spacy<3.4.0,>=3.3.0.dev0->en-core-web-sm==3.3.0) (0.9.1)\n",
            "Requirement already satisfied: jinja2 in /usr/local/lib/python3.7/dist-packages (from spacy<3.4.0,>=3.3.0.dev0->en-core-web-sm==3.3.0) (2.11.3)\n",
            "Requirement already satisfied: setuptools in /usr/local/lib/python3.7/dist-packages (from spacy<3.4.0,>=3.3.0.dev0->en-core-web-sm==3.3.0) (57.4.0)\n",
            "Requirement already satisfied: langcodes<4.0.0,>=3.2.0 in /usr/local/lib/python3.7/dist-packages (from spacy<3.4.0,>=3.3.0.dev0->en-core-web-sm==3.3.0) (3.3.0)\n",
            "Requirement already satisfied: typing-extensions<4.2.0,>=3.7.4 in /usr/local/lib/python3.7/dist-packages (from spacy<3.4.0,>=3.3.0.dev0->en-core-web-sm==3.3.0) (3.10.0.2)\n",
            "Requirement already satisfied: typer<0.5.0,>=0.3.0 in /usr/local/lib/python3.7/dist-packages (from spacy<3.4.0,>=3.3.0.dev0->en-core-web-sm==3.3.0) (0.4.1)\n",
            "Requirement already satisfied: catalogue<2.1.0,>=2.0.6 in /usr/local/lib/python3.7/dist-packages (from spacy<3.4.0,>=3.3.0.dev0->en-core-web-sm==3.3.0) (2.0.7)\n",
            "Requirement already satisfied: spacy-legacy<3.1.0,>=3.0.9 in /usr/local/lib/python3.7/dist-packages (from spacy<3.4.0,>=3.3.0.dev0->en-core-web-sm==3.3.0) (3.0.9)\n",
            "Requirement already satisfied: pydantic!=1.8,!=1.8.1,<1.9.0,>=1.7.4 in /usr/local/lib/python3.7/dist-packages (from spacy<3.4.0,>=3.3.0.dev0->en-core-web-sm==3.3.0) (1.8.2)\n",
            "Requirement already satisfied: thinc<8.1.0,>=8.0.14 in /usr/local/lib/python3.7/dist-packages (from spacy<3.4.0,>=3.3.0.dev0->en-core-web-sm==3.3.0) (8.0.17)\n",
            "Requirement already satisfied: spacy-loggers<2.0.0,>=1.0.0 in /usr/local/lib/python3.7/dist-packages (from spacy<3.4.0,>=3.3.0.dev0->en-core-web-sm==3.3.0) (1.0.2)\n",
            "Requirement already satisfied: zipp>=0.5 in /usr/local/lib/python3.7/dist-packages (from catalogue<2.1.0,>=2.0.6->spacy<3.4.0,>=3.3.0.dev0->en-core-web-sm==3.3.0) (3.8.0)\n",
            "Requirement already satisfied: pyparsing>=2.0.2 in /usr/local/lib/python3.7/dist-packages (from packaging>=20.0->spacy<3.4.0,>=3.3.0.dev0->en-core-web-sm==3.3.0) (3.0.9)\n",
            "Requirement already satisfied: smart-open<6.0.0,>=5.0.0 in /usr/local/lib/python3.7/dist-packages (from pathy>=0.3.5->spacy<3.4.0,>=3.3.0.dev0->en-core-web-sm==3.3.0) (5.2.1)\n",
            "Requirement already satisfied: urllib3<1.27,>=1.21.1 in /usr/local/lib/python3.7/dist-packages (from requests<3.0.0,>=2.13.0->spacy<3.4.0,>=3.3.0.dev0->en-core-web-sm==3.3.0) (1.26.10)\n",
            "Requirement already satisfied: charset-normalizer<3,>=2 in /usr/local/lib/python3.7/dist-packages (from requests<3.0.0,>=2.13.0->spacy<3.4.0,>=3.3.0.dev0->en-core-web-sm==3.3.0) (2.1.0)\n",
            "Requirement already satisfied: idna<4,>=2.5 in /usr/local/lib/python3.7/dist-packages (from requests<3.0.0,>=2.13.0->spacy<3.4.0,>=3.3.0.dev0->en-core-web-sm==3.3.0) (2.10)\n",
            "Requirement already satisfied: certifi>=2017.4.17 in /usr/local/lib/python3.7/dist-packages (from requests<3.0.0,>=2.13.0->spacy<3.4.0,>=3.3.0.dev0->en-core-web-sm==3.3.0) (2022.6.15)\n",
            "Requirement already satisfied: click<9.0.0,>=7.1.1 in /usr/local/lib/python3.7/dist-packages (from typer<0.5.0,>=0.3.0->spacy<3.4.0,>=3.3.0.dev0->en-core-web-sm==3.3.0) (7.1.2)\n",
            "Requirement already satisfied: MarkupSafe>=0.23 in /usr/local/lib/python3.7/dist-packages (from jinja2->spacy<3.4.0,>=3.3.0.dev0->en-core-web-sm==3.3.0) (2.0.1)\n",
            "\u001b[38;5;2m✔ Download and installation successful\u001b[0m\n",
            "You can now load the package via spacy.load('en_core_web_sm')\n"
          ]
        }
      ]
    },
    {
      "cell_type": "code",
      "source": [
        "%cd /content/drive/MyDrive/belajar_ai"
      ],
      "metadata": {
        "colab": {
          "base_uri": "https://localhost:8080/"
        },
        "id": "rO9364QvGizG",
        "outputId": "dc8c8cf9-9a36-4331-be34-26e406bff0bd"
      },
      "execution_count": null,
      "outputs": [
        {
          "output_type": "stream",
          "name": "stdout",
          "text": [
            "/content/drive/MyDrive/belajar_ai\n"
          ]
        }
      ]
    },
    {
      "cell_type": "code",
      "source": [
        "import os\n",
        "import rasa\n",
        "import nest_asyncio\n",
        "\n",
        "nest_asyncio.apply()\n",
        "print(\"Event loop ready.\")"
      ],
      "metadata": {
        "colab": {
          "base_uri": "https://localhost:8080/"
        },
        "id": "_8sidf-pGC1s",
        "outputId": "cf4c3bd8-500a-45bd-bd27-6fff1b0ed7c9"
      },
      "execution_count": null,
      "outputs": [
        {
          "output_type": "stream",
          "name": "stdout",
          "text": [
            "Event loop ready.\n"
          ]
        }
      ]
    },
    {
      "cell_type": "code",
      "source": [
        "from rasa.cli.scaffold import create_initial_project"
      ],
      "metadata": {
        "id": "WOovloLHGtR8"
      },
      "execution_count": null,
      "outputs": []
    },
    {
      "cell_type": "code",
      "source": [
        "project = \"belajar-ai\"\n",
        "create_initial_project(project)"
      ],
      "metadata": {
        "id": "bHK_N2k1G8Yg"
      },
      "execution_count": null,
      "outputs": []
    },
    {
      "cell_type": "code",
      "source": [
        "os.chdir(project)\n",
        "print(os.listdir(\".\"))"
      ],
      "metadata": {
        "colab": {
          "base_uri": "https://localhost:8080/"
        },
        "id": "z76BCy6TG-8P",
        "outputId": "df629ef9-8572-4632-aa37-517d83d59897"
      },
      "execution_count": null,
      "outputs": [
        {
          "output_type": "stream",
          "name": "stdout",
          "text": [
            "['actions', 'data', 'tests', 'models', '.ipynb_checkpoints', 'endpoints.yml', 'credentials.yml', 'domain.yml', 'config.yml']\n"
          ]
        }
      ]
    },
    {
      "cell_type": "code",
      "source": [
        "%%writefile data/nlu.yml\n",
        "version: '2.0'\n",
        "\n",
        "nlu:\n",
        "  - intent: greet_morning\n",
        "    examples: |\n",
        "      - good morning\n",
        "      - morning\n",
        "      - goodmorning\n",
        "      - lovely morning\n",
        "\n",
        "  - intent: sub_field_ai\n",
        "    examples: |\n",
        "      - What are the sub field of artificial intelligence?\n",
        "      - sub field of ai?\n",
        "\n",
        "  - intent: pengertian_deep_learning\n",
        "    examples: |\n",
        "      - What is deep learning?\n",
        "      - deep learning means?\n",
        "      - can you explain to me about deep learning?\n",
        "\n",
        "  - intent: greet\n",
        "    examples: |\n",
        "      - hey\n",
        "      - hello\n",
        "      - hi\n",
        "      - hello there\n",
        "      - moin\n",
        "      - hey there\n",
        "      - let's go\n",
        "      - hey dude\n",
        "\n",
        "  - intent: pengertian_ai\n",
        "    examples: |\n",
        "      - hey, what is artficial intelligence?\n",
        "      - artificial intelligence means?\n",
        "      - artificial intelligence can be defined as?\n",
        "\n",
        "  - intent: difference_ml_dl\n",
        "    examples: |\n",
        "      - what is the difference between machine learning and deep learning?\n",
        "      - what is the difference between ml and dl?\n",
        "\n",
        "  - intent: pengertian_ds\n",
        "    examples: |\n",
        "      - hey, what is data science?\n",
        "      - data science means?\n",
        "      - data science can be defined as?\n",
        "\n",
        "  - intent: pengertian_da\n",
        "    examples: |\n",
        "      - hey, what is data analyst?\n",
        "      - data analyst means?\n",
        "      - data analyst can be defined as?\n",
        "\n",
        "  - intent: dl_timing\n",
        "    examples: |\n",
        "      - When we use Deep Learning ?\n",
        "      - When is the right time to use deep learning?\n",
        "\n",
        "  - intent: pengertian_backpro\n",
        "    examples: |\n",
        "      - hey, what is backpropagation?\n",
        "      - backpropagation means?\n",
        "      - backpropagation can be defined as?\n",
        "\n",
        "  - intent: pengertian_supervised\n",
        "    examples: |\n",
        "      - hey, what is Supervised Learning?\n",
        "      - Supervised Learning means?\n",
        "      - Supervised Learningn can be defined as?\n",
        "\n",
        "  - intent: pengertian_unsupervised\n",
        "    examples: |\n",
        "      - hey, what is unsupervised Learning?\n",
        "      - unsupervised Learning means?\n",
        "      - unsupervised Learning can be defined as?\n",
        "\n",
        "  - intent: difference_da_ds\n",
        "    examples: |\n",
        "      - what is the difference between data science and data analyst?\n",
        "      - what is the difference between da and ds?\n",
        "\n",
        "  - intent: goodbye\n",
        "    examples: |\n",
        "      - good afternoon\n",
        "      - cu\n",
        "      - good by\n",
        "      - cee you later\n",
        "      - good night\n",
        "      - bye\n",
        "      - goodbye\n",
        "      - have a nice day\n",
        "      - see you around\n",
        "      - bye bye\n",
        "      - see you later\n",
        "\n",
        "  - intent: affirm\n",
        "    examples: |\n",
        "      - yes\n",
        "      - y\n",
        "      - indeed\n",
        "      - of course\n",
        "      - that sounds good\n",
        "      - correct\n",
        "\n",
        "  - intent: deny\n",
        "    examples: |\n",
        "      - no\n",
        "      - n\n",
        "      - never\n",
        "      - I don't think so\n",
        "      - don't like that\n",
        "      - no way\n",
        "      - not really\n",
        "\n",
        "  - intent: mood_great\n",
        "    examples: |\n",
        "      - perfect\n",
        "      - great\n",
        "      - amazing\n",
        "      - feeling like a king\n",
        "      - wonderful\n",
        "      - I am feeling very good\n",
        "      - I am great\n",
        "      - I am amazing\n",
        "      - I am going to save the world\n",
        "      - super stoked\n",
        "      - so perfect\n",
        "\n",
        "  - intent: mood_unhappy\n",
        "    examples: |\n",
        "      - my day was horrible\n",
        "      - I am sad\n",
        "      - I don't feel very well\n",
        "      - I am disappointed\n",
        "      - super sad\n",
        "      - I'm so sad\n",
        "      - sad\n",
        "      - very sad\n",
        "      - unhappy\n",
        "      - not good\n",
        "      - not very good\n",
        "      - extremly sad\n",
        "      - so saad\n",
        "      - so sad\n",
        "\n",
        "  - intent: bot_challenge\n",
        "    examples: |\n",
        "      - are you a bot?\n",
        "      - are you a human?\n",
        "      - am I talking to a bot?\n",
        "      - am I talking to a human?\n",
        "\n",
        "\n",
        "\n",
        "\n"
      ],
      "metadata": {
        "colab": {
          "base_uri": "https://localhost:8080/"
        },
        "id": "cO7_rJ8LJIGb",
        "outputId": "4d63a253-3621-4e8d-af46-f2a5f7061537"
      },
      "execution_count": null,
      "outputs": [
        {
          "output_type": "stream",
          "name": "stdout",
          "text": [
            "Overwriting data/nlu.yml\n"
          ]
        }
      ]
    },
    {
      "cell_type": "code",
      "source": [
        "%%writefile domain.yml\n",
        "\n",
        "\n",
        "version: '2.0'\n",
        "\n",
        "intents:\n",
        "  - greet\n",
        "  - goodbye\n",
        "  - affirm\n",
        "  - deny\n",
        "  - mood_great\n",
        "  - mood_unhappy\n",
        "  - bot_challenge\n",
        "  - pengertian_ai\n",
        "  - sub_field_ai\n",
        "  - pengertian_ds\n",
        "  - difference_da_ds\n",
        "  - greet_morning\n",
        "  - pengertian_deep_learning\n",
        "  - pengertian_da\n",
        "  - difference_ml_dl\n",
        "  - dl_timing\n",
        "  - pengertian_backpro\n",
        "  - pengertian_supervised\n",
        "  - pengertian_unsupervised\n",
        "\n",
        "responses:\n",
        "\n",
        "  utter_dl_timing:\n",
        "    - text: '1. If the data amount is large, Deep Learning outperforms conventional approaches. Traditional Machine Learning techniques, on the other hand, are preferred when dealing with tiny amounts of data. 2. Deep Learning approaches require high-end infrastructure to train in a reasonable amount of time. 3. When there is a shortage of domain awareness for feature introspection, Deep Learning approaches outperform others since you have to worry about tasks less. 4. Deep Learning excels at complicated issues like image classification, natural\n",
        "language processing, and speech recognition.'\n",
        "  \n",
        "  utter_pengertian_backpro:\n",
        "    - text: 'Backpropagation is the essence of neural network training. It is the method of fine-tuning the weights of a neural network based on the error rate obtained in the previous epoch'\n",
        "\n",
        "  utter_pengertian_dl:\n",
        "    - text: ' Deep Learning is a subset of machine learning. While machine learning uses simpler concepts, deep learning works with artificial neural networks, which are designed to imitate how humans think and learn'\n",
        "  \n",
        "  utter_difference_dl_ml:\n",
        "    - text: '1. Machine learning works only with sets of structured and semi-structured data, while deep learning works with both structured and unstructured data. 2. Deep learning algorithms can perform complex operations efficiently, while machine learning algorithms cannot. 3. Machine learning algorithms use labeled sample data to extract patterns, while deep learning accepts large volumes of data as input and analyzes the input data to extract features out of an object. 4. The performance of machine learning algorithms decreases as the number of data increases; so to maintain the performance of the model, we need a deep learning'\n",
        "\n",
        "  utter_greet_morning:\n",
        "    - text: 'Good morning to you, too'\n",
        "\n",
        "  utter_pengertian_supervised:\n",
        "    - text: ' Supervised Learning is an approach to creating artificial intelligence (AI), where a computer algorithm is trained on input data that has been labeled for a particular output'\n",
        "\n",
        "  \n",
        "  utter_pengertian_unsupervised:\n",
        "    - text: 'Unsupervised learning is the training of a machine using information that is neither classified nor labeled and allowing the algorithm to act on that information without guidance. Here the task of the machine is to group unsorted information according to similarities, patterns, and differences'\n",
        "\n",
        "  utter_pengertian_da:\n",
        "    - text: 'A data analyst is a person whose job is to gather and interpret data in order to solve a specific problem'\n",
        "\n",
        "  utter_greet:\n",
        "    - text: 'Hey! How are you?'\n",
        "\n",
        "  utter_difference_da_ds:\n",
        "    - text: 'A data analyst may spend more time on routine analysis, providing reports regularly. A data scientist may design the way data is stored, manipulated and analyzed. Simply put, a data analyst makes sense out of existing data, whereas a data scientist works on new ways of capturing and analyzing data to be used by the analysts'\n",
        "\n",
        "  utter_pengertian_ds:\n",
        "    - text: 'Data science is the domain of study that deals with vast volumes of data using modern tools and techniques to find unseen patterns, derive meaningful information, and make business decisions'\n",
        "\n",
        "  utter_sub_field_ai:\n",
        "    - text: 'Robotics, Machine Learning, data science, deep learning.'\n",
        "\n",
        "  utter_pengertian_ai:\n",
        "    - text: 'The science of making machines do work that requires intelligence if done by people.'\n",
        "    - text: 'technology that appears to emulate human performance typically by learning, coming to its own conclusions, appearing to understand complex content, engaging in natural dialogs with people, enhancing human cognitive performance or replacing people on execution of nonroutine tasks.'\n",
        "\n",
        "  utter_cheer_up:\n",
        "    - text: 'Here is something to cheer you up:'\n",
        "      image: 'https://i.imgur.com/nGF1K8f.jpg'\n",
        "\n",
        "  utter_did_that_help:\n",
        "    - text: 'Did that help you?'\n",
        "\n",
        "  utter_happy:\n",
        "    - text: 'Great, carry on!'\n",
        "\n",
        "  utter_goodbye:\n",
        "    - text: 'Bye'\n",
        "\n",
        "  utter_iamabot:\n",
        "    - text: 'I am a bot, powered by Rasa.'\n",
        "\n",
        "session_config:\n",
        "  session_expiration_time: 60\n",
        "  carry_over_slots_to_new_session: true\n",
        "\n"
      ],
      "metadata": {
        "colab": {
          "base_uri": "https://localhost:8080/"
        },
        "id": "4GL9pNq4M36a",
        "outputId": "17d74c55-163e-4981-a567-c0662d04e7fa"
      },
      "execution_count": null,
      "outputs": [
        {
          "output_type": "stream",
          "name": "stdout",
          "text": [
            "Overwriting domain.yml\n"
          ]
        }
      ]
    },
    {
      "cell_type": "code",
      "source": [
        "%%writefile data/stories.yml\n",
        "\n",
        "version: '2.0'\n",
        "\n",
        "stories:\n",
        "  - story: happy path\n",
        "    steps:\n",
        "      - intent: greet\n",
        "      - action: utter_greet\n",
        "      - intent: mood_great\n",
        "      - action: utter_happy\n",
        "\n",
        "  - story: pengertian deep learning\n",
        "    steps:\n",
        "      - intent: greet\n",
        "      - action: utter_greet\n",
        "      - intent: pengertian_deep_learning\n",
        "      - action: utter_pengertian_dl\n",
        "\n",
        "  - story: pengertian ai\n",
        "    steps:\n",
        "      - intent: greet\n",
        "      - action: utter_greet\n",
        "      - intent: pengertian_ai\n",
        "      - action: utter_pengertian_ai\n",
        "\n",
        "  - story: greet morning\n",
        "    steps:\n",
        "      - intent: greet_morning\n",
        "      - action: utter_greet_morning\n",
        "\n",
        "\n",
        "  - story: pengertian ds\n",
        "    steps:\n",
        "      - intent: greet\n",
        "      - action: utter_greet\n",
        "      - intent: pengertian_ds\n",
        "      - action: utter_pengertian_ds\n",
        "\n",
        "  - story: pengertian da\n",
        "    steps:\n",
        "      - intent: greet\n",
        "      - action: utter_greet\n",
        "      - intent: pengertian_da\n",
        "      - action: utter_pengertian_da\n",
        "  \n",
        "  - story: difference_ml_dl\n",
        "    steps:\n",
        "      - intent: greet\n",
        "      - action: utter_greet\n",
        "      - intent: difference_ml_dl\n",
        "      - action: utter_difference_dl_ml\n",
        "  \n",
        "  - story: difference_da_ds\n",
        "    steps:\n",
        "      - intent: greet\n",
        "      - action: utter_greet\n",
        "      - intent: difference_da_ds\n",
        "      - action: utter_difference_da_ds\n",
        "\n",
        "  - story: sub field ai\n",
        "    steps:\n",
        "      - intent: greet\n",
        "      - action: utter_greet\n",
        "      - intent: sub_field_ai\n",
        "      - action: utter_sub_field_ai\n",
        "\n",
        "  - story: sad path 1\n",
        "    steps:\n",
        "      - intent: greet\n",
        "      - action: utter_greet\n",
        "      - intent: mood_unhappy\n",
        "      - action: utter_cheer_up\n",
        "      - action: utter_did_that_help\n",
        "      - intent: affirm\n",
        "      - action: utter_happy\n",
        "\n",
        "  - story: sad path 2\n",
        "    steps:\n",
        "      - intent: greet\n",
        "      - action: utter_greet\n",
        "      - intent: mood_unhappy\n",
        "      - action: utter_cheer_up\n",
        "      - action: utter_did_that_help\n",
        "      - intent: deny\n",
        "      - action: utter_goodbye\n"
      ],
      "metadata": {
        "colab": {
          "base_uri": "https://localhost:8080/"
        },
        "id": "0gy0vRuMQ_48",
        "outputId": "897fd1bf-efa3-439a-a502-f28540660fb6"
      },
      "execution_count": null,
      "outputs": [
        {
          "output_type": "stream",
          "name": "stdout",
          "text": [
            "Overwriting data/stories.yml\n"
          ]
        }
      ]
    },
    {
      "cell_type": "code",
      "source": [
        "config = \"config.yml\"\n",
        "training_files = \"data/\"\n",
        "domain = \"domain.yml\"\n",
        "output = \"models/\"\n",
        "print(config, training_files, domain, output)"
      ],
      "metadata": {
        "colab": {
          "base_uri": "https://localhost:8080/"
        },
        "id": "QsxpCbW0TDH9",
        "outputId": "a6607aaf-668a-454d-f813-c2c187fef769"
      },
      "execution_count": null,
      "outputs": [
        {
          "output_type": "stream",
          "name": "stdout",
          "text": [
            "config.yml data/ domain.yml models/\n"
          ]
        }
      ]
    },
    {
      "cell_type": "code",
      "source": [
        "model_path = rasa.train(domain, config, [training_files], output)\n",
        "print(model_path)"
      ],
      "metadata": {
        "colab": {
          "base_uri": "https://localhost:8080/"
        },
        "id": "yiF7mMzZTQcS",
        "outputId": "30ca5354-4fd4-4628-9a52-843031cd42ff"
      },
      "execution_count": null,
      "outputs": [
        {
          "output_type": "stream",
          "name": "stdout",
          "text": [
            "\u001b[94mThe configuration for pipeline and policies was chosen automatically. It was written into the config file at 'config.yml'.\u001b[0m\n",
            "\u001b[94mTraining NLU model...\u001b[0m\n"
          ]
        },
        {
          "output_type": "stream",
          "name": "stderr",
          "text": [
            "\u001b[93m/usr/local/lib/python3.7/dist-packages/rasa/utils/train_utils.py:565: UserWarning: model_confidence is set to `softmax`. It is recommended to try using `model_confidence=linear_norm` to make it easier to tune fallback thresholds.\n",
            "  category=UserWarning,\n",
            "Epochs: 100%|██████████| 100/100 [00:32<00:00,  3.12it/s, t_loss=2.03, i_acc=1]\n"
          ]
        },
        {
          "output_type": "stream",
          "name": "stdout",
          "text": [
            "\u001b[94mNLU model training completed.\u001b[0m\n",
            "\u001b[94mTraining Core model...\u001b[0m\n"
          ]
        },
        {
          "output_type": "stream",
          "name": "stderr",
          "text": [
            "Processed story blocks: 100%|██████████| 11/11 [00:00<00:00, 446.57it/s, # trackers=1]\n",
            "Processed story blocks: 100%|██████████| 11/11 [00:00<00:00, 131.48it/s, # trackers=11]\n",
            "Processed story blocks: 100%|██████████| 11/11 [00:00<00:00, 48.55it/s, # trackers=50]\n",
            "Processed story blocks: 100%|██████████| 11/11 [00:00<00:00, 39.91it/s, # trackers=50]\n",
            "Processed rules: 100%|██████████| 2/2 [00:00<00:00, 244.31it/s, # trackers=1]\n",
            "Processed trackers: 100%|██████████| 11/11 [00:00<00:00, 89.67it/s, # actions=28]\n",
            "Processed actions: 28it [00:00, 638.06it/s, # examples=28]\n",
            "Processed trackers: 100%|██████████| 511/511 [00:12<00:00, 40.79it/s, # actions=292]\n",
            "Epochs: 100%|██████████| 100/100 [00:28<00:00,  3.46it/s, t_loss=1.86, loss=1.64, acc=0.998]\n",
            "Processed trackers: 100%|██████████| 2/2 [00:00<00:00, 129.53it/s, # actions=5]\n",
            "Processed actions: 5it [00:00, 618.94it/s, # examples=4]\n",
            "Processed trackers: 100%|██████████| 11/11 [00:00<00:00, 107.43it/s, # actions=28]\n",
            "Processed trackers: 100%|██████████| 2/2 [00:00<00:00, 877.74it/s]\n",
            "Processed trackers: 100%|██████████| 13/13 [00:00<00:00, 447.61it/s]\n"
          ]
        },
        {
          "output_type": "stream",
          "name": "stdout",
          "text": [
            "\u001b[94mCore model training completed.\u001b[0m\n",
            "\u001b[92mYour Rasa model is trained and saved at '/content/drive/MyDrive/belajar_ai/belajar-ai/models/20220708-162719.tar.gz'.\u001b[0m\n",
            "TrainingResult(model='models/20220708-162719.tar.gz', code=0)\n"
          ]
        }
      ]
    },
    {
      "cell_type": "code",
      "source": [
        "import telebot"
      ],
      "metadata": {
        "id": "Vi5PlVHPPePO"
      },
      "execution_count": null,
      "outputs": []
    },
    {
      "cell_type": "code",
      "source": [
        "bot_token = telebot.TeleBot('5527109867:AAFaLxtRvYTjiVePjs9dszehH6bFn29mqik')"
      ],
      "metadata": {
        "id": "n6xDaEGOPgkj"
      },
      "execution_count": null,
      "outputs": []
    },
    {
      "cell_type": "code",
      "source": [
        "from rasa.jupyter import chat\n",
        "\n",
        "endpoints = 'endpoints.yml'\n",
        "\n",
        "chat(model_path.model, endpoints)"
      ],
      "metadata": {
        "colab": {
          "base_uri": "https://localhost:8080/"
        },
        "id": "PdibDK67PxJ4",
        "outputId": "cd5c9e11-4f81-4d2d-ba15-07d1cb238bd4"
      },
      "execution_count": null,
      "outputs": [
        {
          "output_type": "stream",
          "name": "stderr",
          "text": [
            "\u001b[93m/usr/local/lib/python3.7/dist-packages/rasa/utils/train_utils.py:565: UserWarning: model_confidence is set to `softmax`. It is recommended to try using `model_confidence=linear_norm` to make it easier to tune fallback thresholds.\n",
            "  category=UserWarning,\n",
            "\u001b[0m"
          ]
        },
        {
          "name": "stdout",
          "output_type": "stream",
          "text": [
            "Your bot is ready to talk! Type your messages here or send '/stop'.\n",
            "morning\n",
            "\u001b[92mGood morning to you, too\u001b[0m\n",
            "what is deep learning?\n",
            "\u001b[92mDeep Learning is a subset of machine learning. While machine learning uses simpler concepts, deep learning works with artificial neural networks, which are designed to imitate how humans think and learn\u001b[0m\n",
            "diff betwwen deep learning and machine learning?\n",
            "\u001b[92m1. Machine learning works only with sets of structured and semi-structured data, while deep learning works with both structured and unstructured data. 2. Deep learning algorithms can perform complex operations efficiently, while machine learning algorithms cannot. 3. Machine learning algorithms use labeled sample data to extract patterns, while deep learning accepts large volumes of data as input and analyzes the input data to extract features out of an object. 4. The performance of machine learning algorithms decreases as the number of data increases; so to maintain the performance of the model, we need a deep learning\u001b[0m\n",
            "what is data science?\n",
            "\u001b[92mData science is the domain of study that deals with vast volumes of data using modern tools and techniques to find unseen patterns, derive meaningful information, and make business decisions\u001b[0m\n",
            "/stop\n"
          ]
        }
      ]
    }
  ]
}